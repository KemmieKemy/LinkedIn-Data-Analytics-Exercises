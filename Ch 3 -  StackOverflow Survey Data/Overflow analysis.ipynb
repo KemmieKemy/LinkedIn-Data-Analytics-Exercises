{
 "cells": [
  {
   "cell_type": "markdown",
   "metadata": {},
   "source": [
    "# Reference Points\n",
    "Challenge 3 (Fourth challenge)\n",
    "\n",
    "Find below, link to Stack Overflow Annual Developer Survey. Grab the 2020 survey result. That's what we are working with here.\n",
    "\n",
    "The Tasks:\n",
    "\n",
    "- How many developers participated in this survey?\n",
    "- Find the top 10 countries participating devs are from.\n",
    "- How many are from Nigeria?\n",
    "- What's the average age the Nigerian dev wrote their first code?\n",
    "- What's the average age of the Nigerian dev?\n",
    "- What are the kinds of employment they are in?\n",
    "- What's the gender distribution?\n",
    "- What majors did they study in school?\n",
    "- What languages have they worked with?\n",
    "- What's the average number of languages they have worked with?\n",
    "- What's the average number of years of experience of the Nigerian developer?\n",
    "- #Kicker\n",
    "- 1. How many devs are women, age below 25 and earn a living from dev?\n",
    "- 2. What are the 10 most popular languages among Naija devs?"
   ]
  },
  {
   "cell_type": "code",
   "execution_count": 24,
   "metadata": {},
   "outputs": [],
   "source": [
    "# Import needed libraries\n",
    "import pandas as pd\n",
    "import statistics\n",
    "\n",
    "from matplotlib import pyplot as plt\n",
    "plt.style.use('ggplot')"
   ]
  },
  {
   "cell_type": "code",
   "execution_count": 25,
   "metadata": {},
   "outputs": [],
   "source": [
    "#Read dataset\n",
    "df = pd.read_csv('survey_results_public.csv')"
   ]
  },
  {
   "cell_type": "code",
   "execution_count": 26,
   "metadata": {},
   "outputs": [
    {
     "data": {
      "text/plain": [
       "(64461, 61)"
      ]
     },
     "execution_count": 26,
     "metadata": {},
     "output_type": "execute_result"
    }
   ],
   "source": [
    "#Summary stats\n",
    "df.shape"
   ]
  },
  {
   "cell_type": "code",
   "execution_count": 27,
   "metadata": {},
   "outputs": [
    {
     "data": {
      "text/plain": [
       "Respondent              int64\n",
       "MainBranch             object\n",
       "Hobbyist               object\n",
       "Age                   float64\n",
       "Age1stCode             object\n",
       "                       ...   \n",
       "WebframeWorkedWith     object\n",
       "WelcomeChange          object\n",
       "WorkWeekHrs           float64\n",
       "YearsCode              object\n",
       "YearsCodePro           object\n",
       "Length: 61, dtype: object"
      ]
     },
     "execution_count": 27,
     "metadata": {},
     "output_type": "execute_result"
    }
   ],
   "source": [
    "#Just like python as a whole, in pandas, if you do not know the type you ar working with, you are in for undue stress\n",
    "#Remember these types as we might wanna do things to them to whip them into the type to do well\n",
    "df.dtypes"
   ]
  },
  {
   "cell_type": "code",
   "execution_count": 28,
   "metadata": {},
   "outputs": [
    {
     "data": {
      "text/plain": [
       "Index(['Respondent', 'MainBranch', 'Hobbyist', 'Age', 'Age1stCode', 'CompFreq',\n",
       "       'CompTotal', 'ConvertedComp', 'Country', 'CurrencyDesc',\n",
       "       'CurrencySymbol', 'DatabaseDesireNextYear', 'DatabaseWorkedWith',\n",
       "       'DevType', 'EdLevel', 'Employment', 'Ethnicity', 'Gender', 'JobFactors',\n",
       "       'JobSat', 'JobSeek', 'LanguageDesireNextYear', 'LanguageWorkedWith',\n",
       "       'MiscTechDesireNextYear', 'MiscTechWorkedWith',\n",
       "       'NEWCollabToolsDesireNextYear', 'NEWCollabToolsWorkedWith', 'NEWDevOps',\n",
       "       'NEWDevOpsImpt', 'NEWEdImpt', 'NEWJobHunt', 'NEWJobHuntResearch',\n",
       "       'NEWLearn', 'NEWOffTopic', 'NEWOnboardGood', 'NEWOtherComms',\n",
       "       'NEWOvertime', 'NEWPurchaseResearch', 'NEWPurpleLink', 'NEWSOSites',\n",
       "       'NEWStuck', 'OpSys', 'OrgSize', 'PlatformDesireNextYear',\n",
       "       'PlatformWorkedWith', 'PurchaseWhat', 'Sexuality', 'SOAccount',\n",
       "       'SOComm', 'SOPartFreq', 'SOVisitFreq', 'SurveyEase', 'SurveyLength',\n",
       "       'Trans', 'UndergradMajor', 'WebframeDesireNextYear',\n",
       "       'WebframeWorkedWith', 'WelcomeChange', 'WorkWeekHrs', 'YearsCode',\n",
       "       'YearsCodePro'],\n",
       "      dtype='object')"
      ]
     },
     "execution_count": 28,
     "metadata": {},
     "output_type": "execute_result"
    }
   ],
   "source": [
    "#I like to beware of the features/columns I am working with\n",
    "df.columns"
   ]
  },
  {
   "cell_type": "markdown",
   "metadata": {},
   "source": [
    "**How many developers participated in this survey?**"
   ]
  },
  {
   "cell_type": "code",
   "execution_count": 29,
   "metadata": {},
   "outputs": [
    {
     "name": "stdout",
     "output_type": "stream",
     "text": [
      "A total of 64,461 developers participated in the survey\n"
     ]
    }
   ],
   "source": [
    "#By simple logic, since this is a developers' survey, all participants are developers\n",
    "#So we simple return the 'height' of the dataset.\n",
    "print(f\"A total of {df.shape[0]:,} developers participated in the survey\")"
   ]
  },
  {
   "cell_type": "markdown",
   "metadata": {},
   "source": [
    "**Find the top 10 countries participating devs are from.**"
   ]
  },
  {
   "cell_type": "code",
   "execution_count": 30,
   "metadata": {},
   "outputs": [
    {
     "data": {
      "text/plain": [
       "<matplotlib.axes._subplots.AxesSubplot at 0x1b0863dfe08>"
      ]
     },
     "execution_count": 30,
     "metadata": {},
     "output_type": "execute_result"
    },
    {
     "data": {
      "image/png": "[encoded data removed]",
      "text/plain": [
       "<Figure size 1080x360 with 1 Axes>"
      ]
     },
     "metadata": {},
     "output_type": "display_data"
    }
   ],
   "source": [
    "#We will just quickly drop a plot on value_counts of the country column\n",
    "df.Country.value_counts().head(10).plot(kind='bar', figsize =(15,5), title=\"Top 10 Countries participating.\")"
   ]
  },
  {
   "cell_type": "markdown",
   "metadata": {},
   "source": [
    "**How many are from Nigeria?**"
   ]
  },
  {
   "cell_type": "code",
   "execution_count": 31,
   "metadata": {},
   "outputs": [
    {
     "name": "stdout",
     "output_type": "stream",
     "text": [
      "A total of 593 Nigerian developers participated in the survey\n"
     ]
    }
   ],
   "source": [
    "#Because the rest of the questions are on Nigeria, I will make a naija df\n",
    "#filter out Nigeria observations into 'naija'\n",
    "naija = df[df['Country'] == 'Nigeria'].reset_index(drop=True)\n",
    "\n",
    "#Same operation on the whole dataset or participants works here too\n",
    "print(f\"A total of {naija.shape[0]} Nigerian developers participated in the survey\")"
   ]
  },
  {
   "cell_type": "markdown",
   "metadata": {},
   "source": [
    "**What's the average age the Nigerian dev wrote their first code?**"
   ]
  },
  {
   "cell_type": "code",
   "execution_count": 32,
   "metadata": {},
   "outputs": [
    {
     "name": "stdout",
     "output_type": "stream",
     "text": [
      "Average age at first code for Nigerians is 19.9 Years.\n"
     ]
    }
   ],
   "source": [
    "#How do you feel about one liners? I love them!\n",
    "#One thing I like doing is using python lists as much as I'm able to\n",
    "#It's flexible and being a basic building block, it's to remember and manipulate extensively\n",
    "#Types! Here I convert the col in view to a list of ints and find the mean\n",
    "age1stcode = [int(line) for line in naija.Age1stCode.tolist() if type(line) == str]\n",
    "print(f\"Average age at first code for Nigerians is {round(statistics.mean(age1stcode),1)} Years.\")"
   ]
  },
  {
   "cell_type": "markdown",
   "metadata": {},
   "source": [
    "**What's the average age of the Nigerian dev?**"
   ]
  },
  {
   "cell_type": "code",
   "execution_count": 33,
   "metadata": {},
   "outputs": [
    {
     "name": "stdout",
     "output_type": "stream",
     "text": [
      "Average age of Nigerian devs is 25.7 Years.\n"
     ]
    }
   ],
   "source": [
    "#Since I have already done some EDA, I know some of the rows hold nothing\n",
    "#So something creative needs come in here:  enter python list operation\n",
    "#We will on find the average age of all that declared an age.\n",
    "ages = []\n",
    "for age in naija.Age:\n",
    "    try:\n",
    "        x = int(age)\n",
    "        ages.append(x)\n",
    "    except:\n",
    "        pass\n",
    "    \n",
    "print(f\"Average age of Nigerian devs is {round(statistics.mean(ages),1)} Years.\")"
   ]
  },
  {
   "cell_type": "markdown",
   "metadata": {},
   "source": [
    "**What are the kinds of employment they are in?**"
   ]
  },
  {
   "cell_type": "code",
   "execution_count": 34,
   "metadata": {},
   "outputs": [
    {
     "data": {
      "text/plain": [
       "<matplotlib.axes._subplots.AxesSubplot at 0x1b08d1e1488>"
      ]
     },
     "execution_count": 34,
     "metadata": {},
     "output_type": "execute_result"
    },
    {
     "data": {
      "image/png": "[encoded data removed]",
      "text/plain": [
       "<Figure size 720x360 with 1 Axes>"
      ]
     },
     "metadata": {},
     "output_type": "display_data"
    }
   ],
   "source": [
    "#Let's count values in the appropriate columns\n",
    "#Since we expect a long names, we do a horizontal bar\n",
    "naija.Employment.value_counts().sort_values().plot(kind='barh', figsize =(10,5), title=\"Employment Types.\")"
   ]
  },
  {
   "cell_type": "markdown",
   "metadata": {},
   "source": [
    "**What's the gender distribution?**"
   ]
  },
  {
   "cell_type": "code",
   "execution_count": 35,
   "metadata": {},
   "outputs": [
    {
     "data": {
      "text/plain": [
       "Man                                                  408\n",
       "NaN                                                  151\n",
       "Woman                                                 31\n",
       "Woman;Man                                              2\n",
       "Non-binary, genderqueer, or gender non-conforming      1\n",
       "Name: Gender, dtype: int64"
      ]
     },
     "execution_count": 35,
     "metadata": {},
     "output_type": "execute_result"
    }
   ],
   "source": [
    "#We will take two approaches here\n",
    "#1. All possible distribution of gender on the list. Notice the NaNs\n",
    "naija.Gender.value_counts(dropna=False)"
   ]
  },
  {
   "cell_type": "code",
   "execution_count": 36,
   "metadata": {},
   "outputs": [
    {
     "name": "stdout",
     "output_type": "stream",
     "text": [
      "There are 408 males, 31 females and  154 others\n"
     ]
    }
   ],
   "source": [
    "#2. Only three category of items on the list: male, female and others\n",
    "#Following the outcome above, we count men, women and others\n",
    "male, female, others = 0, 0, 0\n",
    "for line in naija.Gender:\n",
    "    if line == 'Woman':\n",
    "        female += 1\n",
    "    elif line == 'Man':\n",
    "        male += 1\n",
    "    else:\n",
    "        others += 1\n",
    "        \n",
    "print(f\"There are {male} males, {female} females and  {others} others\")"
   ]
  },
  {
   "cell_type": "code",
   "execution_count": 37,
   "metadata": {},
   "outputs": [
    {
     "data": {
      "image/png": "[encoded data removed]",
      "text/plain": [
       "<Figure size 432x288 with 1 Axes>"
      ]
     },
     "metadata": {},
     "output_type": "display_data"
    }
   ],
   "source": [
    "#Share of a whole are best shown on pie charts. Let's plot.\n",
    "# Data to plot\n",
    "labels = ['Male', 'Female', 'Others']\n",
    "sizes = [male, female, others]\n",
    "colors = ['green', 'yellow', 'yellowgreen']\n",
    "explode = (0.05, 0.05, 0.05)  # explode 1st slice\n",
    "\n",
    "# Plot\n",
    "# patches, texts = plt.pie(sizes, explode=explode, autopct='%1.2f%%', colors=colors,shadow=True, startangle=120)\n",
    "plt.title(\"Distribution of Naija Devs by Gender\")\n",
    "plt.tight_layout()\n",
    "\n",
    "# Plot with labels and percentage\n",
    "plt.pie(sizes, labels=labels,autopct='%1.1f%%', colors=colors, explode=explode, shadow=True, startangle=100)\n",
    "plt.show()"
   ]
  },
  {
   "cell_type": "markdown",
   "metadata": {},
   "source": [
    "**What majors did they study in school?**"
   ]
  },
  {
   "cell_type": "code",
   "execution_count": 38,
   "metadata": {},
   "outputs": [
    {
     "data": {
      "text/plain": [
       "<matplotlib.axes._subplots.AxesSubplot at 0x1b0855356c8>"
      ]
     },
     "execution_count": 38,
     "metadata": {},
     "output_type": "execute_result"
    },
    {
     "data": {
      "image/png": "[encoded data removed]",
      "text/plain": [
       "<Figure size 720x360 with 1 Axes>"
      ]
     },
     "metadata": {},
     "output_type": "display_data"
    }
   ],
   "source": [
    "#Value counts, again, is so instrumental\n",
    "naija.UndergradMajor.value_counts().sort_values().plot(kind='barh', figsize =(10,5), title=\"Undergrad Major of Naija Devs\")"
   ]
  },
  {
   "cell_type": "markdown",
   "metadata": {},
   "source": [
    "**What languages have they worked with?**"
   ]
  },
  {
   "cell_type": "code",
   "execution_count": 39,
   "metadata": {},
   "outputs": [
    {
     "data": {
      "text/plain": [
       "NaN                                                87\n",
       "HTML/CSS;JavaScript                                36\n",
       "HTML/CSS;JavaScript;PHP;SQL                        28\n",
       "HTML/CSS;JavaScript;PHP                            16\n",
       "HTML/CSS;JavaScript;TypeScript                     14\n",
       "                                                   ..\n",
       "C;C#;C++;HTML/CSS;Java;JavaScript;Python            1\n",
       "C#;HTML/CSS;Java;JavaScript;PHP;Python;Ruby;SQL     1\n",
       "Dart;HTML/CSS;PHP;SQL                               1\n",
       "HTML/CSS;Java;JavaScript;Python;TypeScript          1\n",
       "Dart;HTML/CSS;JavaScript;PHP;Python;SQL             1\n",
       "Name: LanguageWorkedWith, Length: 271, dtype: int64"
      ]
     },
     "execution_count": 39,
     "metadata": {},
     "output_type": "execute_result"
    }
   ],
   "source": [
    "#One migh tbe tempted to do a value_counts here but wait.\n",
    "#For perspecive, below is value counts: This is along a combination of languages\n",
    "#We need the languages individually and we will show the top ten\n",
    "naija.LanguageWorkedWith.value_counts(dropna=False)"
   ]
  },
  {
   "cell_type": "code",
   "execution_count": 40,
   "metadata": {},
   "outputs": [
    {
     "name": "stdout",
     "output_type": "stream",
     "text": [
      "There are 87 NaNs\n",
      "There are 2,112 langauges on the list.\n"
     ]
    }
   ],
   "source": [
    "#Let's ignore the NaNs and plot the top 10 languages they have worked with\n",
    "#First we collate the languages\n",
    "#I will do two things here: observation is key\n",
    "#Notice that the langauges here are seperated with semicolons. Handy!\n",
    "#Step 1. Count all instances. For good measure, will count the NaNs to collaborate the number above\n",
    "NaNs = 0\n",
    "no_lang = []\n",
    "for line in naija.LanguageWorkedWith:\n",
    "    try:#If this works we hae some values around, else, it's NaN, count it\n",
    "        x = line.split(';') #split() returns a list, we unpack them into the no_lang with extend\n",
    "        no_lang.extend(x)\n",
    "    except:\n",
    "        NaNs += 1\n",
    "        \n",
    "print(f\"There are {NaNs} NaNs\")\n",
    "print(f\"There are {len(no_lang):,} langauges on the list.\")"
   ]
  },
  {
   "cell_type": "code",
   "execution_count": 41,
   "metadata": {},
   "outputs": [
    {
     "name": "stdout",
     "output_type": "stream",
     "text": [
      "There are 24 unique languages on the list\n"
     ]
    }
   ],
   "source": [
    "#Step 2: Expect many instances of the same language in no_lang? Of course. See length above and below\n",
    "#Let's make the members of that collection unique and also take their count. Python dictionary\n",
    "languages = {}\n",
    "for line in no_lang:\n",
    "    if line in languages.keys():\n",
    "        languages[line][0] += 1 #Yea. thats strange. It's on purpose. reason in  next cell\n",
    "    else:\n",
    "        languages[line] = [1]\n",
    "        \n",
    "#Rememebr the count of languages in no_lang, see whats unique now, held in a languages.keys\n",
    "print(f\"There are {len(languages.keys())} unique languages on the list\")"
   ]
  },
  {
   "cell_type": "code",
   "execution_count": 42,
   "metadata": {},
   "outputs": [
    {
     "data": {
      "text/html": [
       "<div>\n",
       "<style scoped>\n",
       "    .dataframe tbody tr th:only-of-type {\n",
       "        vertical-align: middle;\n",
       "    }\n",
       "\n",
       "    .dataframe tbody tr th {\n",
       "        vertical-align: top;\n",
       "    }\n",
       "\n",
       "    .dataframe thead th {\n",
       "        text-align: right;\n",
       "    }\n",
       "</style>\n",
       "<table border=\"1\" class=\"dataframe\">\n",
       "  <thead>\n",
       "    <tr style=\"text-align: right;\">\n",
       "      <th></th>\n",
       "      <th>languages</th>\n",
       "      <th>count</th>\n",
       "    </tr>\n",
       "  </thead>\n",
       "  <tbody>\n",
       "    <tr>\n",
       "      <th>0</th>\n",
       "      <td>HTML/CSS</td>\n",
       "      <td>395</td>\n",
       "    </tr>\n",
       "    <tr>\n",
       "      <th>1</th>\n",
       "      <td>JavaScript</td>\n",
       "      <td>366</td>\n",
       "    </tr>\n",
       "    <tr>\n",
       "      <th>2</th>\n",
       "      <td>SQL</td>\n",
       "      <td>242</td>\n",
       "    </tr>\n",
       "    <tr>\n",
       "      <th>3</th>\n",
       "      <td>PHP</td>\n",
       "      <td>218</td>\n",
       "    </tr>\n",
       "    <tr>\n",
       "      <th>4</th>\n",
       "      <td>Python</td>\n",
       "      <td>192</td>\n",
       "    </tr>\n",
       "    <tr>\n",
       "      <th>5</th>\n",
       "      <td>Java</td>\n",
       "      <td>174</td>\n",
       "    </tr>\n",
       "    <tr>\n",
       "      <th>6</th>\n",
       "      <td>C#</td>\n",
       "      <td>100</td>\n",
       "    </tr>\n",
       "    <tr>\n",
       "      <th>7</th>\n",
       "      <td>TypeScript</td>\n",
       "      <td>86</td>\n",
       "    </tr>\n",
       "    <tr>\n",
       "      <th>8</th>\n",
       "      <td>C++</td>\n",
       "      <td>74</td>\n",
       "    </tr>\n",
       "    <tr>\n",
       "      <th>9</th>\n",
       "      <td>C</td>\n",
       "      <td>52</td>\n",
       "    </tr>\n",
       "  </tbody>\n",
       "</table>\n",
       "</div>"
      ],
      "text/plain": [
       "    languages  count\n",
       "0    HTML/CSS    395\n",
       "1  JavaScript    366\n",
       "2         SQL    242\n",
       "3         PHP    218\n",
       "4      Python    192\n",
       "5        Java    174\n",
       "6          C#    100\n",
       "7  TypeScript     86\n",
       "8         C++     74\n",
       "9           C     52"
      ]
     },
     "execution_count": 42,
     "metadata": {},
     "output_type": "execute_result"
    }
   ],
   "source": [
    "#Remember the odd move up there? Aim was to have value made up of python lists\n",
    "#Why the hassle? Well, we want a quick dataframe\n",
    "languages_df = pd.DataFrame(languages) #Smooth right. but why?\n",
    "\n",
    "#remember our question: top 10 most used langauges. With a df, value_counts beautifully delivers\n",
    "#First we transpose the df and then do value_counts\n",
    "df = languages_df.T.reset_index() #tranpose\n",
    "df.columns = ['languages', 'count'] #rename cols\n",
    "df.sort_values('count', ascending=False).reset_index(drop=True).head(10)"
   ]
  },
  {
   "cell_type": "markdown",
   "metadata": {},
   "source": [
    "**What's the average number of languages they have worked with?**"
   ]
  },
  {
   "cell_type": "code",
   "execution_count": 43,
   "metadata": {},
   "outputs": [
    {
     "name": "stdout",
     "output_type": "stream",
     "text": [
      "Average number of languages they have worked with is 4.2\n"
     ]
    }
   ],
   "source": [
    "#PS: pandas NaNs are of type float\n",
    "#We count how many languages each is doing\n",
    "all_langages_count = [len(line.split(';')) for line in naija .LanguageWorkedWith if type(line) != float]\n",
    "\n",
    "#Take the average\n",
    "print(f\"Average number of languages they have worked with is {round(statistics.mean(all_langages_count),1)}\")"
   ]
  },
  {
   "cell_type": "markdown",
   "metadata": {},
   "source": [
    "**What's the average number of years of experience of the Nigerian developer?**"
   ]
  },
  {
   "cell_type": "code",
   "execution_count": 44,
   "metadata": {},
   "outputs": [
    {
     "data": {
      "text/plain": [
       "NaN                 86\n",
       "3                   81\n",
       "2                   71\n",
       "5                   56\n",
       "4                   49\n",
       "6                   38\n",
       "8                   34\n",
       "1                   32\n",
       "Less than 1 year    28\n",
       "10                  27\n",
       "7                   26\n",
       "9                   20\n",
       "11                  11\n",
       "12                   8\n",
       "20                   5\n",
       "15                   4\n",
       "14                   4\n",
       "18                   3\n",
       "13                   3\n",
       "23                   3\n",
       "37                   1\n",
       "26                   1\n",
       "17                   1\n",
       "16                   1\n",
       "Name: YearsCode, dtype: int64"
      ]
     },
     "execution_count": 44,
     "metadata": {},
     "output_type": "execute_result"
    }
   ],
   "source": [
    "#A value counts shows me the distibution of things so I know how to proceed\n",
    "naija.YearsCode.value_counts(dropna=False)"
   ]
  },
  {
   "cell_type": "code",
   "execution_count": 45,
   "metadata": {},
   "outputs": [
    {
     "name": "stdout",
     "output_type": "stream",
     "text": [
      "Average number of years of experience of Nigerian devs is 5.4 Years.\n"
     ]
    }
   ],
   "source": [
    "#For the observations 'less than 1 year', we are going to call them 1 year\n",
    "#List!\n",
    "years = []\n",
    "for line in naija.YearsCode:\n",
    "    if line == 'Less than 1 year':\n",
    "        years.append(1)\n",
    "    else:\n",
    "        try:\n",
    "            x = int(line) #If it fails, it is a nan value: bone am\n",
    "            years.append(x)\n",
    "        except:\n",
    "            pass\n",
    "        \n",
    "#Now let's print out the average number of years of experience \n",
    "print(f\"Average number of years of experience of Nigerian devs is {round(statistics.mean(years),1)} Years.\")"
   ]
  },
  {
   "cell_type": "markdown",
   "metadata": {},
   "source": [
    "# Kicker"
   ]
  },
  {
   "cell_type": "markdown",
   "metadata": {},
   "source": [
    "**1. How many devs are women, age below 25 and earn a living from dev?**"
   ]
  },
  {
   "cell_type": "code",
   "execution_count": 46,
   "metadata": {},
   "outputs": [
    {
     "data": {
      "text/html": [
       "<div>\n",
       "<style scoped>\n",
       "    .dataframe tbody tr th:only-of-type {\n",
       "        vertical-align: middle;\n",
       "    }\n",
       "\n",
       "    .dataframe tbody tr th {\n",
       "        vertical-align: top;\n",
       "    }\n",
       "\n",
       "    .dataframe thead th {\n",
       "        text-align: right;\n",
       "    }\n",
       "</style>\n",
       "<table border=\"1\" class=\"dataframe\">\n",
       "  <thead>\n",
       "    <tr style=\"text-align: right;\">\n",
       "      <th></th>\n",
       "      <th>Respondent</th>\n",
       "      <th>MainBranch</th>\n",
       "      <th>Hobbyist</th>\n",
       "      <th>Age</th>\n",
       "      <th>Age1stCode</th>\n",
       "      <th>CompFreq</th>\n",
       "      <th>CompTotal</th>\n",
       "      <th>ConvertedComp</th>\n",
       "      <th>Country</th>\n",
       "      <th>CurrencyDesc</th>\n",
       "      <th>...</th>\n",
       "      <th>SurveyEase</th>\n",
       "      <th>SurveyLength</th>\n",
       "      <th>Trans</th>\n",
       "      <th>UndergradMajor</th>\n",
       "      <th>WebframeDesireNextYear</th>\n",
       "      <th>WebframeWorkedWith</th>\n",
       "      <th>WelcomeChange</th>\n",
       "      <th>WorkWeekHrs</th>\n",
       "      <th>YearsCode</th>\n",
       "      <th>YearsCodePro</th>\n",
       "    </tr>\n",
       "  </thead>\n",
       "  <tbody>\n",
       "    <tr>\n",
       "      <th>309</th>\n",
       "      <td>50414</td>\n",
       "      <td>I am a developer by profession</td>\n",
       "      <td>Yes</td>\n",
       "      <td>23.0</td>\n",
       "      <td>21</td>\n",
       "      <td>Monthly</td>\n",
       "      <td>210000.0</td>\n",
       "      <td>6912.0</td>\n",
       "      <td>Nigeria</td>\n",
       "      <td>Nigerian naira</td>\n",
       "      <td>...</td>\n",
       "      <td>Easy</td>\n",
       "      <td>Appropriate in length</td>\n",
       "      <td>No</td>\n",
       "      <td>Mathematics or statistics</td>\n",
       "      <td>Gatsby;Ruby on Rails</td>\n",
       "      <td>Express;Flask;React.js</td>\n",
       "      <td>A lot more welcome now than last year</td>\n",
       "      <td>40.0</td>\n",
       "      <td>2</td>\n",
       "      <td>1</td>\n",
       "    </tr>\n",
       "  </tbody>\n",
       "</table>\n",
       "<p>1 rows × 61 columns</p>\n",
       "</div>"
      ],
      "text/plain": [
       "     Respondent                      MainBranch Hobbyist   Age Age1stCode  \\\n",
       "309       50414  I am a developer by profession      Yes  23.0         21   \n",
       "\n",
       "    CompFreq  CompTotal  ConvertedComp  Country    CurrencyDesc  ...  \\\n",
       "309  Monthly   210000.0         6912.0  Nigeria  Nigerian naira  ...   \n",
       "\n",
       "    SurveyEase           SurveyLength Trans             UndergradMajor  \\\n",
       "309       Easy  Appropriate in length    No  Mathematics or statistics   \n",
       "\n",
       "    WebframeDesireNextYear      WebframeWorkedWith  \\\n",
       "309   Gatsby;Ruby on Rails  Express;Flask;React.js   \n",
       "\n",
       "                             WelcomeChange WorkWeekHrs YearsCode YearsCodePro  \n",
       "309  A lot more welcome now than last year        40.0         2            1  \n",
       "\n",
       "[1 rows x 61 columns]"
      ]
     },
     "execution_count": 46,
     "metadata": {},
     "output_type": "execute_result"
    }
   ],
   "source": [
    "#Slice out the naija set that are below 25, women and earning\n",
    "naija[(naija['Age'] < 25) & (naija['Gender'] == 'Woman' ) & (naija['CompTotal'] > 0 )]"
   ]
  },
  {
   "cell_type": "code",
   "execution_count": null,
   "metadata": {},
   "outputs": [],
   "source": []
  }
 ],
 "metadata": {
  "kernelspec": {
   "display_name": "Python 3",
   "language": "python",
   "name": "python3"
  },
  "language_info": {
   "codemirror_mode": {
    "name": "ipython",
    "version": 3
   },
   "file_extension": ".py",
   "mimetype": "text/x-python",
   "name": "python",
   "nbconvert_exporter": "python",
   "pygments_lexer": "ipython3",
   "version": "3.7.4"
  }
 },
 "nbformat": 4,
 "nbformat_minor": 2
}
