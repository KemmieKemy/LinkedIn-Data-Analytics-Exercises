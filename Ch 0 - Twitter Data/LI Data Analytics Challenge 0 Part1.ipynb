{
 "cells": [
  {
   "cell_type": "markdown",
   "metadata": {},
   "source": [
    "# Recap of the Challenge details:\n",
    "- The top 5 most active days of tweet by the subject. \n",
    "- The number of tweets and number of retweets. \n",
    "- Which 5 people did they retweet their posts the most and how many each. \n",
    "- What top 5 hours of the day do they tweet. \n",
    "- What kind of device do they use to tweet. \n",
    "- On average, how many times do they tweet a day.\n",
    "- What day did they tweet the most and how many tweets. \n",
    "- What month did they tweet the most and how many tweets. \n",
    "- What are their top 15 words. \n",
    "- What are the top 10 hashtags they used. "
   ]
  },
  {
   "cell_type": "code",
   "execution_count": 1,
   "metadata": {},
   "outputs": [],
   "source": [
    "#Import needed libraries\n",
    "import pandas as pd\n",
    "from datetime import datetime\n",
    "import matplotlib.pyplot as plt\n",
    "import matplotlib.dates as mdates\n",
    "import os\n",
    "from collections import Counter\n",
    "\n",
    "plt.style.use('ggplot')"
   ]
  },
  {
   "cell_type": "code",
   "execution_count": 2,
   "metadata": {},
   "outputs": [],
   "source": [
    "#Read in the required file\n",
    "df = pd.read_csv('Exercise.csv')"
   ]
  },
  {
   "cell_type": "markdown",
   "metadata": {},
   "source": [
    "# A quick EDA to see what we hold in the dataframe"
   ]
  },
  {
   "cell_type": "code",
   "execution_count": 3,
   "metadata": {},
   "outputs": [
    {
     "name": "stdout",
     "output_type": "stream",
     "text": [
      "There are 3,229 rows across 13 columns\n"
     ]
    }
   ],
   "source": [
    "#Shape of the df\n",
    "print(f\"There are {df.shape[0]:,} rows across {df.shape[1]} columns\")"
   ]
  },
  {
   "cell_type": "code",
   "execution_count": 4,
   "metadata": {},
   "outputs": [
    {
     "data": {
      "text/plain": [
       "Index(['created_at', 'text', 'in_reply_to_status_id_str', 'source',\n",
       "       'in_reply_to_screen_name', 'contributors', 'quoted_status_id',\n",
       "       'quote_count', 'reply_count', 'retweet_count', 'favorite_count',\n",
       "       'retweeted', 'followers_count'],\n",
       "      dtype='object')"
      ]
     },
     "execution_count": 4,
     "metadata": {},
     "output_type": "execute_result"
    }
   ],
   "source": [
    "#the column names are\n",
    "df.columns"
   ]
  },
  {
   "cell_type": "code",
   "execution_count": 5,
   "metadata": {},
   "outputs": [
    {
     "data": {
      "text/plain": [
       "created_at                    object\n",
       "text                          object\n",
       "in_reply_to_status_id_str    float64\n",
       "source                        object\n",
       "in_reply_to_screen_name       object\n",
       "contributors                 float64\n",
       "quoted_status_id              object\n",
       "quote_count                   object\n",
       "reply_count                   object\n",
       "retweet_count                  int64\n",
       "favorite_count                 int64\n",
       "retweeted                    float64\n",
       "followers_count              float64\n",
       "dtype: object"
      ]
     },
     "execution_count": 5,
     "metadata": {},
     "output_type": "execute_result"
    }
   ],
   "source": [
    "#Let's see the datat type each column is holding. This will be important info down the line\n",
    "df.dtypes"
   ]
  },
  {
   "cell_type": "code",
   "execution_count": 6,
   "metadata": {},
   "outputs": [
    {
     "name": "stdout",
     "output_type": "stream",
     "text": [
      "<class 'pandas.core.frame.DataFrame'>\n",
      "RangeIndex: 3229 entries, 0 to 3228\n",
      "Data columns (total 13 columns):\n",
      "created_at                   3229 non-null object\n",
      "text                         3229 non-null object\n",
      "in_reply_to_status_id_str    1023 non-null float64\n",
      "source                       3229 non-null object\n",
      "in_reply_to_screen_name      1023 non-null object\n",
      "contributors                 0 non-null float64\n",
      "quoted_status_id             3229 non-null object\n",
      "quote_count                  3229 non-null object\n",
      "reply_count                  3229 non-null object\n",
      "retweet_count                3229 non-null int64\n",
      "favorite_count               3229 non-null int64\n",
      "retweeted                    0 non-null float64\n",
      "followers_count              0 non-null float64\n",
      "dtypes: float64(4), int64(2), object(7)\n",
      "memory usage: 328.1+ KB\n"
     ]
    }
   ],
   "source": [
    "#A peep at other info about our data.\n",
    "#Observe that some of the columns have null values as they have less than 3,229 non-null values\n",
    "df.info()"
   ]
  },
  {
   "cell_type": "code",
   "execution_count": 7,
   "metadata": {},
   "outputs": [
    {
     "data": {
      "text/html": [
       "<div>\n",
       "<style scoped>\n",
       "    .dataframe tbody tr th:only-of-type {\n",
       "        vertical-align: middle;\n",
       "    }\n",
       "\n",
       "    .dataframe tbody tr th {\n",
       "        vertical-align: top;\n",
       "    }\n",
       "\n",
       "    .dataframe thead th {\n",
       "        text-align: right;\n",
       "    }\n",
       "</style>\n",
       "<table border=\"1\" class=\"dataframe\">\n",
       "  <thead>\n",
       "    <tr style=\"text-align: right;\">\n",
       "      <th></th>\n",
       "      <th>created_at</th>\n",
       "      <th>text</th>\n",
       "      <th>in_reply_to_status_id_str</th>\n",
       "      <th>source</th>\n",
       "      <th>in_reply_to_screen_name</th>\n",
       "      <th>contributors</th>\n",
       "      <th>quoted_status_id</th>\n",
       "      <th>quote_count</th>\n",
       "      <th>reply_count</th>\n",
       "      <th>retweet_count</th>\n",
       "      <th>favorite_count</th>\n",
       "      <th>retweeted</th>\n",
       "      <th>followers_count</th>\n",
       "    </tr>\n",
       "  </thead>\n",
       "  <tbody>\n",
       "    <tr>\n",
       "      <td>0</td>\n",
       "      <td>2019-12-19 08:20:07</td>\n",
       "      <td>On behalf of my family, I wish @bukolasaraki a...</td>\n",
       "      <td>NaN</td>\n",
       "      <td>Twitter for iPhone</td>\n",
       "      <td>NaN</td>\n",
       "      <td>NaN</td>\n",
       "      <td>Not Availabe</td>\n",
       "      <td>Not Availabe</td>\n",
       "      <td>Not Availabe</td>\n",
       "      <td>1227</td>\n",
       "      <td>10787</td>\n",
       "      <td>NaN</td>\n",
       "      <td>NaN</td>\n",
       "    </tr>\n",
       "    <tr>\n",
       "      <td>1</td>\n",
       "      <td>2019-12-15 16:08:46</td>\n",
       "      <td>How sweet of my grandchildren to bring me a be...</td>\n",
       "      <td>NaN</td>\n",
       "      <td>Twitter for iPhone</td>\n",
       "      <td>NaN</td>\n",
       "      <td>NaN</td>\n",
       "      <td>Not Availabe</td>\n",
       "      <td>Not Availabe</td>\n",
       "      <td>Not Availabe</td>\n",
       "      <td>943</td>\n",
       "      <td>11928</td>\n",
       "      <td>NaN</td>\n",
       "      <td>NaN</td>\n",
       "    </tr>\n",
       "    <tr>\n",
       "      <td>2</td>\n",
       "      <td>2019-12-15 07:53:46</td>\n",
       "      <td>On behalf of my family, I thank those present ...</td>\n",
       "      <td>NaN</td>\n",
       "      <td>Twitter for iPhone</td>\n",
       "      <td>NaN</td>\n",
       "      <td>NaN</td>\n",
       "      <td>Not Availabe</td>\n",
       "      <td>Not Availabe</td>\n",
       "      <td>Not Availabe</td>\n",
       "      <td>714</td>\n",
       "      <td>6539</td>\n",
       "      <td>NaN</td>\n",
       "      <td>NaN</td>\n",
       "    </tr>\n",
       "    <tr>\n",
       "      <td>3</td>\n",
       "      <td>2019-12-13 15:51:58</td>\n",
       "      <td>I congratulate @BorisJohnson on his reelection...</td>\n",
       "      <td>NaN</td>\n",
       "      <td>Twitter for iPhone</td>\n",
       "      <td>NaN</td>\n",
       "      <td>NaN</td>\n",
       "      <td>Not Availabe</td>\n",
       "      <td>Not Availabe</td>\n",
       "      <td>Not Availabe</td>\n",
       "      <td>639</td>\n",
       "      <td>5373</td>\n",
       "      <td>NaN</td>\n",
       "      <td>NaN</td>\n",
       "    </tr>\n",
       "    <tr>\n",
       "      <td>4</td>\n",
       "      <td>2019-12-10 09:44:44</td>\n",
       "      <td>#HumanRightsDay means that the global human co...</td>\n",
       "      <td>NaN</td>\n",
       "      <td>Twitter for iPhone</td>\n",
       "      <td>NaN</td>\n",
       "      <td>NaN</td>\n",
       "      <td>Not Availabe</td>\n",
       "      <td>Not Availabe</td>\n",
       "      <td>Not Availabe</td>\n",
       "      <td>822</td>\n",
       "      <td>3380</td>\n",
       "      <td>NaN</td>\n",
       "      <td>NaN</td>\n",
       "    </tr>\n",
       "  </tbody>\n",
       "</table>\n",
       "</div>"
      ],
      "text/plain": [
       "            created_at                                               text  \\\n",
       "0  2019-12-19 08:20:07  On behalf of my family, I wish @bukolasaraki a...   \n",
       "1  2019-12-15 16:08:46  How sweet of my grandchildren to bring me a be...   \n",
       "2  2019-12-15 07:53:46  On behalf of my family, I thank those present ...   \n",
       "3  2019-12-13 15:51:58  I congratulate @BorisJohnson on his reelection...   \n",
       "4  2019-12-10 09:44:44  #HumanRightsDay means that the global human co...   \n",
       "\n",
       "   in_reply_to_status_id_str              source in_reply_to_screen_name  \\\n",
       "0                        NaN  Twitter for iPhone                     NaN   \n",
       "1                        NaN  Twitter for iPhone                     NaN   \n",
       "2                        NaN  Twitter for iPhone                     NaN   \n",
       "3                        NaN  Twitter for iPhone                     NaN   \n",
       "4                        NaN  Twitter for iPhone                     NaN   \n",
       "\n",
       "   contributors quoted_status_id   quote_count   reply_count  retweet_count  \\\n",
       "0           NaN     Not Availabe  Not Availabe  Not Availabe           1227   \n",
       "1           NaN     Not Availabe  Not Availabe  Not Availabe            943   \n",
       "2           NaN     Not Availabe  Not Availabe  Not Availabe            714   \n",
       "3           NaN     Not Availabe  Not Availabe  Not Availabe            639   \n",
       "4           NaN     Not Availabe  Not Availabe  Not Availabe            822   \n",
       "\n",
       "   favorite_count  retweeted  followers_count  \n",
       "0           10787        NaN              NaN  \n",
       "1           11928        NaN              NaN  \n",
       "2            6539        NaN              NaN  \n",
       "3            5373        NaN              NaN  \n",
       "4            3380        NaN              NaN  "
      ]
     },
     "execution_count": 7,
     "metadata": {},
     "output_type": "execute_result"
    }
   ],
   "source": [
    "#Finally, a look at the head of our df\n",
    "df.head()"
   ]
  },
  {
   "cell_type": "markdown",
   "metadata": {},
   "source": [
    "### The top 5 most active days of tweet by the subject. \n",
    "- This involves both their tweets and then retweet of other peopele's tweet. So we are looking at all 3,229 tweets"
   ]
  },
  {
   "cell_type": "code",
   "execution_count": 8,
   "metadata": {},
   "outputs": [
    {
     "data": {
      "text/plain": [
       "0    2019-12-19 08:20:07\n",
       "Name: created_at, dtype: object"
      ]
     },
     "execution_count": 8,
     "metadata": {},
     "output_type": "execute_result"
    }
   ],
   "source": [
    "#Notice it is of type object now\n",
    "df['created_at'].head(1)"
   ]
  },
  {
   "cell_type": "code",
   "execution_count": 9,
   "metadata": {},
   "outputs": [],
   "source": [
    "#The type of our date column 'created_at' has to be a time object so we can work with it\n",
    "#Convert created_at column to datetime\n",
    "df['created_at'] = pd.to_datetime(df.created_at)"
   ]
  },
  {
   "cell_type": "code",
   "execution_count": 10,
   "metadata": {},
   "outputs": [
    {
     "data": {
      "text/plain": [
       "0   2019-12-19 08:20:07\n",
       "Name: created_at, dtype: datetime64[ns]"
      ]
     },
     "execution_count": 10,
     "metadata": {},
     "output_type": "execute_result"
    }
   ],
   "source": [
    "#We now have a datetime object. If any row did not convert we will still be stuck with type 'object'\n",
    "df['created_at'].head(1)"
   ]
  },
  {
   "cell_type": "code",
   "execution_count": 11,
   "metadata": {},
   "outputs": [
    {
     "data": {
      "text/plain": [
       "0    2019-12-19\n",
       "1    2019-12-15\n",
       "Name: dates, dtype: object"
      ]
     },
     "execution_count": 11,
     "metadata": {},
     "output_type": "execute_result"
    }
   ],
   "source": [
    "#Let's make new column 'dates' from column 'created_at' to hold only the date like year-month-day\n",
    "df['dates'] = [line.date() for line in df.created_at] #call date() on each row of datetime value\n",
    "#Let's have a peek of this column\n",
    "df.dates.head(2)"
   ]
  },
  {
   "cell_type": "code",
   "execution_count": 12,
   "metadata": {},
   "outputs": [
    {
     "name": "stdout",
     "output_type": "stream",
     "text": [
      "2019-02-03    48\n",
      "2019-01-30    40\n",
      "2018-11-19    35\n",
      "2014-12-03    33\n",
      "2017-10-07    32\n",
      "Name: dates, dtype: int64\n"
     ]
    }
   ],
   "source": [
    "#A value count will give us how many times each date occurred which is how many times they tweeted that day\n",
    "#we save this ina variable 'top5_days'\n",
    "top5_days = df.dates.value_counts().head()\n",
    "print(top5_days)"
   ]
  },
  {
   "cell_type": "code",
   "execution_count": 13,
   "metadata": {},
   "outputs": [],
   "source": [
    "#We will use similar plot moves so we make a funtion out of it\n",
    "def plotter(df, col, xlabel, ylabel, title):\n",
    "    \"\"\"\n",
    "    args: \n",
    "    df= dataframe in question\n",
    "    col= name of column in focus\n",
    "    xlabel, ylabel, title = xlabel, ylabel and title desired\n",
    "    \n",
    "    Create a bar plot from a value count (first ten) on the column specified\"\"\"\n",
    "    ax = df[col].value_counts().head(10).plot(kind='bar', figsize=(10,3),grid=True, title=title)\n",
    "    ax.set_xlabel(xlabel)\n",
    "    ax.set_ylabel(ylabel)\n",
    "    for p in ax.patches:\n",
    "        ax.annotate(str(p.get_height()), (p.get_x() * 1.005, p.get_height() * 1.005))"
   ]
  },
  {
   "cell_type": "code",
   "execution_count": 14,
   "metadata": {},
   "outputs": [
    {
     "data": {
      "image/png": "[encoded data removed]",
      "text/plain": [
       "<Figure size 720x216 with 1 Axes>"
      ]
     },
     "metadata": {
      "needs_background": "light"
     },
     "output_type": "display_data"
    }
   ],
   "source": [
    "#Let's drop a plot of this info about top tweeting days\n",
    "plotter(df, 'dates', 'Days', 'Frequency', 'Top 10 Tweeting Days of X')"
   ]
  },
  {
   "cell_type": "markdown",
   "metadata": {},
   "source": [
    "### The number of tweets and number of retweets."
   ]
  },
  {
   "cell_type": "code",
   "execution_count": 15,
   "metadata": {},
   "outputs": [
    {
     "data": {
      "text/plain": [
       "True"
      ]
     },
     "execution_count": 15,
     "metadata": {},
     "output_type": "execute_result"
    }
   ],
   "source": [
    "#To get the this detail we look at the 'text' column as it holds the tweet\n",
    "#All that start with 'RT' are retwets by the subject otherwise they their original tweet\n",
    "tweets = [line for line in df.text if not line.startswith('RT')]\n",
    "retweets = [line for line in df.text if line.startswith('RT')]\n",
    "\n",
    "#To proof-check, the length of these two should be equal too 3,299 ie total number of tweets\n",
    "len(retweets) + len(tweets) == len(df)"
   ]
  },
  {
   "cell_type": "code",
   "execution_count": 16,
   "metadata": {},
   "outputs": [
    {
     "data": {
      "text/plain": [
       "3229"
      ]
     },
     "execution_count": 16,
     "metadata": {},
     "output_type": "execute_result"
    }
   ],
   "source": [
    "len(df)"
   ]
  },
  {
   "cell_type": "code",
   "execution_count": 17,
   "metadata": {},
   "outputs": [
    {
     "data": {
      "image/png": "[encoded data removed]",
      "text/plain": [
       "<Figure size 432x288 with 1 Axes>"
      ]
     },
     "metadata": {},
     "output_type": "display_data"
    }
   ],
   "source": [
    "#Data to Plot\n",
    "len_tweets = len(tweets)\n",
    "len_retweets = len(retweets)\n",
    "\n",
    "labels = 'Tweets', 'Retweets'\n",
    "sizes = [len_tweets, len_retweets]\n",
    "colors = ['green', 'blue']\n",
    "explode = (0.1, 0)  # explode 1st slice\n",
    "\n",
    "# Plot\n",
    "plt.pie(sizes, explode=explode, labels = sizes, autopct='%1.1f%%', colors=colors, shadow=True, startangle=140)\n",
    "\n",
    "plt.axis('equal')\n",
    "plt.title(\"Tweets vs Retweets Distribution of X\")\n",
    "plt.legend(labels)\n",
    "plt.show()"
   ]
  },
  {
   "cell_type": "markdown",
   "metadata": {},
   "source": [
    "### Which 5 people did they retweet their posts the most and how many each.\n",
    "- We find these guys from the text column by isolating the retweets and grabbing the first mention"
   ]
  },
  {
   "cell_type": "code",
   "execution_count": 18,
   "metadata": {},
   "outputs": [
    {
     "data": {
      "text/plain": [
       "['On behalf of my family, I wish @bukolasaraki a very happy birthday. May Allah grant you many more years in good health and continued service to Nigeria. -AA https://t.co/YYHcR3AaSX',\n",
       " 'How sweet of my grandchildren to bring me a belated birthday cake. #smiles https://t.co/gjak4bGmdt',\n",
       " 'On behalf of my family, I thank those present and also well-wishers for their prayers at the Wedding Fatiha of my dear son, @HHMustaphaAA and his wife, Afrah El-Nafaty. May Allah bless you all for making it a truly special day for me and my family. -AA https://t.co/a6xniZXW1l',\n",
       " 'I congratulate @BorisJohnson on his reelection as Prime Minister of the United Kingdom. -AA',\n",
       " '#HumanRightsDay means that the global human community abhors dictatorial regimes. To celebrate this day therefore, I again call for the immediate release of all prisoners of good conscience in Nigeria and demand a jettisoning of repressive legislation against free speech - AA.']"
      ]
     },
     "execution_count": 18,
     "metadata": {},
     "output_type": "execute_result"
    }
   ],
   "source": [
    "#Working with the list of tweets and retweets above\n",
    "#Let's eyeball things in both list to be sure we are on track\n",
    "#First 5 tweets on list\n",
    "tweets[:5]"
   ]
  },
  {
   "cell_type": "code",
   "execution_count": 19,
   "metadata": {},
   "outputs": [
    {
     "data": {
      "text/plain": [
       "[\"RT @AUNigeria: HAPPENING NOW: AUN Founder's Day 2019. You are all welcome to this special occasion.\\n\\nWatch here: https://t.co/W6tXmUQ6oD ht…\",\n",
       " 'RT @omonlakiki: Twenty years ago, Women Trafficking &amp; Child Labour Eradication Foundation (WOTCLEF) was founded by Hajiya Titi Amina Abubak…',\n",
       " 'RT @omonlakiki: Emmanuel Kwache, veteran journalist &amp; pioneer staff of Atiku Media Office was loyal, resourceful &amp; personable. On behalf of…',\n",
       " 'RT @PeterObi: It was reassuring that notwithstanding his age and health challenges, Prof Ben Nwabueze (SAN), patriot and foremost constitut…',\n",
       " 'RT @omonlakiki: No businessman (living or dead) in Africa has worked harder for democracy or contributed more to the progress of higher  ed…']"
      ]
     },
     "execution_count": 19,
     "metadata": {},
     "output_type": "execute_result"
    }
   ],
   "source": [
    "#First 5 retweets on list\n",
    "retweets[:5]"
   ]
  },
  {
   "cell_type": "code",
   "execution_count": 20,
   "metadata": {},
   "outputs": [],
   "source": [
    "#Extract the first mention in each retweet\n",
    "#We're breaking out of the inner loop after first mention instance as we know a line could feature more than 1 mention\n",
    "retweetees = []\n",
    "for line in retweets:\n",
    "    for item in line:\n",
    "        if item.startswith('@'):\n",
    "            x = line.split()[1] #split that line of tweet and take the second item, the mention\n",
    "            x = x.replace(':', '') #it comes with a colon so we replace it with nothing\n",
    "            retweetees.append(x) #add to our list\n",
    "            break #So we don't pick up any other one along the line after the first\n",
    "\n",
    "#Alterantively and shorter, since we know that the retweetee is always the second thing on a line of tweet we can\n",
    "#just take them out\n",
    "retweetees2 = [line.split()[1].replace(':', '') for line in retweets] #You gotta love list comprehensions!"
   ]
  },
  {
   "cell_type": "code",
   "execution_count": 21,
   "metadata": {},
   "outputs": [
    {
     "name": "stdout",
     "output_type": "stream",
     "text": [
      "True\n",
      "True\n",
      "True\n"
     ]
    }
   ],
   "source": [
    "#If this went well, we know we should have as many retweetees as there are retweets namely 545.\n",
    "#Let's check\n",
    "print(len(retweetees) == len(retweets))\n",
    "print(len(retweetees2) == len(retweets))\n",
    "print(retweetees2[:5] == retweetees[:5])"
   ]
  },
  {
   "cell_type": "code",
   "execution_count": 22,
   "metadata": {},
   "outputs": [
    {
     "data": {
      "text/plain": [
       "['@AUNigeria', '@omonlakiki', '@omonlakiki', '@PeterObi', '@omonlakiki']"
      ]
     },
     "execution_count": 22,
     "metadata": {},
     "output_type": "execute_result"
    }
   ],
   "source": [
    "#A look at our retweetees list. First 5\n",
    "retweetees[:5]"
   ]
  },
  {
   "cell_type": "code",
   "execution_count": 35,
   "metadata": {},
   "outputs": [
    {
     "data": {
      "text/plain": [
       "Counter({'@AUNigeria': 25,\n",
       "         '@omonlakiki': 31,\n",
       "         '@PeterObi': 2,\n",
       "         '@legitngnews': 1,\n",
       "         '@HHMustaphaAA': 1,\n",
       "         '@engr_louis_': 1,\n",
       "         '@Mimi89816009': 1,\n",
       "         '@themangerajake': 1,\n",
       "         '@UchennaViktor': 1,\n",
       "         '@ayoolamide84': 1,\n",
       "         '@YouthsForAtiku': 2,\n",
       "         '@BetterWithAtiku': 1,\n",
       "         '@Mr_Icey02288': 1,\n",
       "         '@Chachalistic': 1,\n",
       "         '@GazaliAdc': 1,\n",
       "         '@jamilukusada': 1,\n",
       "         '@DannySENATOR': 1,\n",
       "         '@marcymoore11111': 1,\n",
       "         '@kizzysly': 1,\n",
       "         '@NaijaJagaban': 1,\n",
       "         '@Amchizzy': 1,\n",
       "         '@OghomitseAghog1': 1,\n",
       "         '@jide_olafare': 2,\n",
       "         '@GovIfeanyiOkowa': 3,\n",
       "         '@IamAnderson4': 1,\n",
       "         '@Chuxswag': 1,\n",
       "         '@MediaManifold': 1,\n",
       "         '@EKY2019': 1,\n",
       "         '@IncredibleMyno': 1,\n",
       "         '@JGanobi': 1,\n",
       "         '@abdulgafaryy': 1,\n",
       "         '@iamharrisug': 1,\n",
       "         '@Austinelordlaz': 1,\n",
       "         '@Ijomanta_Jnr': 1,\n",
       "         '@LugardFredo': 1,\n",
       "         '@SpokesManAtiku': 24,\n",
       "         '@bukolasaraki': 4,\n",
       "         '@atiku': 9,\n",
       "         '@OfficialPDPNig': 2,\n",
       "         '@PeterGregoryObi': 7,\n",
       "         '@KingTarick': 1,\n",
       "         '@kcnaija': 1,\n",
       "         '@renoomokri': 2,\n",
       "         '@AtikuOrg': 117,\n",
       "         '@AfricaProg': 6,\n",
       "         '@olawaleatanda_': 1,\n",
       "         '@SEzekwesili': 1,\n",
       "         '@woleotegbade': 1,\n",
       "         '@Okagbare01': 1,\n",
       "         '@tee_kay3': 1,\n",
       "         '@janeyjil': 1,\n",
       "         '@mukhtaaru': 1,\n",
       "         '@fasthebaker': 1,\n",
       "         '@Talk2Capt': 1,\n",
       "         '@Tutsy22': 1,\n",
       "         '@Adamss_babs': 1,\n",
       "         '@favourdesimhi': 1,\n",
       "         '@BenFidelis': 1,\n",
       "         '@Seyiboyadebayo': 1,\n",
       "         '@openiyianu': 1,\n",
       "         '@Jidenna': 1,\n",
       "         '@benmurraybruce': 1,\n",
       "         '@Rotleo3819': 1,\n",
       "         '@sar_GENT': 1,\n",
       "         '@sisiese': 1,\n",
       "         '@btinaudu': 1,\n",
       "         '@Iamfemijoseph': 1,\n",
       "         '@elisinhu': 1,\n",
       "         '@TexTheLaw': 1,\n",
       "         '@njacob_z': 1,\n",
       "         '@Kaybenjamine': 1,\n",
       "         '@KULKAT_': 1,\n",
       "         '@MrAbdul112': 1,\n",
       "         '@sleeky4': 1,\n",
       "         '@bubblybenz': 1,\n",
       "         '@zinazee20': 1,\n",
       "         '@Chydee': 1,\n",
       "         '@Xchange1': 1,\n",
       "         '@ib4real3': 2,\n",
       "         '@Ab_Ishaq': 1,\n",
       "         '@Nwankpa_A': 2,\n",
       "         '@ChAkinlabi': 1,\n",
       "         '@IshaqNji': 1,\n",
       "         '@AO1379': 10,\n",
       "         '@PremiumTimesng': 3,\n",
       "         '@AJEnglish': 1,\n",
       "         '@daObi513': 3,\n",
       "         '@PaulTArkwright': 1,\n",
       "         '@iamstillonstill': 1,\n",
       "         '@P94727': 1,\n",
       "         '@mgsoki': 1,\n",
       "         '@thecableng': 2,\n",
       "         '@MobilePunch': 2,\n",
       "         '@Mustyblax': 14,\n",
       "         '@Yusuf_Aymaan': 1,\n",
       "         '@MBuhari': 1,\n",
       "         '@GovMAA': 3,\n",
       "         '@AWTambuwal': 1,\n",
       "         '@basilabia': 1,\n",
       "         '@Wiziyk': 1,\n",
       "         '@Dbergeline': 1,\n",
       "         '@MatthewTPage': 1,\n",
       "         '@JohnCampbellcfr': 1,\n",
       "         '@m_wakil': 1,\n",
       "         '@_Co0kieMonster_': 1,\n",
       "         '@teejebs': 1,\n",
       "         '@FemmyDFilms': 1,\n",
       "         '@ZiaSalihu': 3,\n",
       "         '@Hlimited': 2,\n",
       "         '@bash_90': 1,\n",
       "         '@trafficbutter': 1,\n",
       "         '@bukarismail': 1,\n",
       "         '@bbjlaw': 1,\n",
       "         '@kels418': 1,\n",
       "         '@Demoore90210': 1,\n",
       "         '@ogundamisi': 1,\n",
       "         '@daily_trust': 1,\n",
       "         '@CHUDDI_KAY': 1,\n",
       "         '@belloAUN': 2,\n",
       "         '@SpeakerDogara': 1,\n",
       "         '@Movemeback': 1,\n",
       "         '@LSEAfricaSummit': 3,\n",
       "         '@BBCAfrica': 2,\n",
       "         '@adebayo_bsegun': 1,\n",
       "         '@Samuel_NET': 1,\n",
       "         '@Rexnuba': 1,\n",
       "         '@victor_eyekay': 1,\n",
       "         '@SOlanrewa': 1,\n",
       "         '@AUN_TELA': 2,\n",
       "         '@FedEx': 1,\n",
       "         '@1bigborderless1': 1,\n",
       "         '@zayyadmuhammad': 1,\n",
       "         '@tosinolaseinde': 1,\n",
       "         '@Yommie_ATAF': 1,\n",
       "         '@hultprize': 1,\n",
       "         '@pockerdhot': 2,\n",
       "         '@Yarima_Abdool': 1,\n",
       "         '@SiddikiH': 1,\n",
       "         '@ritoju22': 1,\n",
       "         '@nimc_ng': 1,\n",
       "         '@Anakle': 1,\n",
       "         '@ancientmind': 1,\n",
       "         '@KamaalAbdullah': 1,\n",
       "         '@DeliciousAmina': 2,\n",
       "         '@alameeenyaros': 1,\n",
       "         '@boyfromsouth': 2,\n",
       "         '@Ibraheemee': 1,\n",
       "         '@TobaCaleb': 1,\n",
       "         '@Zahrahmusa': 2,\n",
       "         '@RGAMeyer': 2,\n",
       "         '@dbaale1': 1,\n",
       "         '@naijcom': 1,\n",
       "         '@aishaattiku': 1,\n",
       "         '@LikitaZuwahu': 1,\n",
       "         '@meenaabu': 1,\n",
       "         '@RukaiyaAtiku': 2,\n",
       "         '@CiscoCSR': 1,\n",
       "         '@nwokem': 1,\n",
       "         '@milner_adeyemi': 1,\n",
       "         '@doctorokey': 1,\n",
       "         '@MuyiwaOyelade': 1,\n",
       "         '@Sanddatas': 3,\n",
       "         '@Sontaleo': 1,\n",
       "         '@Noskii_': 1,\n",
       "         '@gbolaadetunji': 1,\n",
       "         '@yahuza4all_4784': 1,\n",
       "         '@iamrikimaru': 1,\n",
       "         '@TheNationNews': 1,\n",
       "         '@SeeMeSeeNigeria': 1,\n",
       "         '@ThisIsBuhari': 6,\n",
       "         '@MasaluPaschal': 1,\n",
       "         '@JideDairo': 1,\n",
       "         '@twofiq': 1,\n",
       "         '@badru75': 1,\n",
       "         '@Edu4Blues': 1,\n",
       "         '@yomideyi': 1,\n",
       "         '@Mr_Chidindu': 1,\n",
       "         '@SharonEzeamaka': 1,\n",
       "         '@SEAWAVEMD': 1,\n",
       "         '@peterchikezie': 1,\n",
       "         '@labaranabubaka1': 1,\n",
       "         '@yunuskala': 2,\n",
       "         '@royallikaziz': 1,\n",
       "         '@AdebowalAlabi': 1,\n",
       "         '@HLemchi': 2,\n",
       "         '@geotaha': 1,\n",
       "         '@iRepArsenal': 2,\n",
       "         '@NassPepper': 2,\n",
       "         '@boasonbusiness': 5,\n",
       "         '@SuperG33K': 1,\n",
       "         '@arafone': 1,\n",
       "         '@babs4bas': 1,\n",
       "         '@Abdul_malikh': 3,\n",
       "         '@DuchesseGingham': 1,\n",
       "         '@globeandmail': 1,\n",
       "         '@AminuBaaba': 1,\n",
       "         '@Bunza01Bz': 1,\n",
       "         '@AishaYesufu': 1,\n",
       "         '@lanre_abimbola': 1,\n",
       "         '@kunzak': 1,\n",
       "         '@AuwaluMustapha': 1,\n",
       "         '@ibronas80': 1,\n",
       "         '@dayofolarin': 1,\n",
       "         '@APCNigeria': 1,\n",
       "         '@ProfOsinbajo': 2,\n",
       "         '@GMBVolunteers': 2,\n",
       "         '@elrufai': 1,\n",
       "         '@gbengasesan': 1,\n",
       "         '@NaijaHistory': 1,\n",
       "         '@YNaija2015': 1,\n",
       "         '@funnyabdul': 1,\n",
       "         '@zubbyalone': 1,\n",
       "         '@mabziz': 1,\n",
       "         '@yardboy85': 1,\n",
       "         '@Enit_sunts': 2,\n",
       "         '@Riquelme1010': 1,\n",
       "         '@yem09ner': 2,\n",
       "         '@Change__2015': 1,\n",
       "         '@dejirauf': 1,\n",
       "         '@karo_kesty': 1,\n",
       "         '@aminuzimit': 1,\n",
       "         '@adeyemiamosayo': 1,\n",
       "         '@fkay14': 1,\n",
       "         '@PeaceCorps': 1,\n",
       "         '@GbenroAdegbola': 1,\n",
       "         '@todelola': 1,\n",
       "         '@Bayobabalola': 1,\n",
       "         '@auschuitz': 1,\n",
       "         '@RevdSamuelJoshu': 1,\n",
       "         '@fran_6ix': 1,\n",
       "         '@sourcecfo': 1,\n",
       "         '@DonNwokedi': 1,\n",
       "         '@hugolacci': 1,\n",
       "         '@bensonfriday3': 1,\n",
       "         '@ade_toye': 1,\n",
       "         '@JawalZozo': 1,\n",
       "         '@liverpudian_ify': 2,\n",
       "         '@fasholaolu': 1,\n",
       "         '@YemiCastano': 1,\n",
       "         '@burrch007': 1,\n",
       "         '@shortblackboy': 1,\n",
       "         '@vessien': 1,\n",
       "         '@tozinla': 1,\n",
       "         '@ComehomeTJ': 1,\n",
       "         '@Dipause': 1,\n",
       "         '@Mickeyvybes': 1,\n",
       "         '@AM_kaleh': 1,\n",
       "         '@resourcedat': 1,\n",
       "         '@juicyfinelady': 1,\n",
       "         '@dmjadel': 1,\n",
       "         '@Dr_Blueprint01': 1,\n",
       "         '@Amfaaf': 1,\n",
       "         '@EngrFoluso': 1,\n",
       "         '@murazy10': 1,\n",
       "         '@shawn2341': 1})"
      ]
     },
     "execution_count": 35,
     "metadata": {},
     "output_type": "execute_result"
    }
   ],
   "source": [
    "#Let's find the frequency they occur and so the top 5 of them that X retweeted their tweet\n",
    "freq = Counter(retweetees)\n",
    "freq"
   ]
  },
  {
   "cell_type": "code",
   "execution_count": 24,
   "metadata": {},
   "outputs": [
    {
     "data": {
      "text/plain": [
       "[(117, '@AtikuOrg'),\n",
       " (31, '@omonlakiki'),\n",
       " (25, '@AUNigeria'),\n",
       " (24, '@SpokesManAtiku'),\n",
       " (14, '@Mustyblax')]"
      ]
     },
     "execution_count": 24,
     "metadata": {},
     "output_type": "execute_result"
    }
   ],
   "source": [
    "#This is a handful and I hope we get to explain it some day\n",
    "#What we achieved here is sort the dictionary into a list of tuples pushing the ones with highest occurrnce to the top\n",
    "sorted_outcome = [(mention, amount) for mention, amount in sorted([(x,y) for y,x in freq.items()], reverse=True)]\n",
    "#A look at the top 5\n",
    "sorted_outcome[:5]"
   ]
  },
  {
   "cell_type": "code",
   "execution_count": 25,
   "metadata": {},
   "outputs": [
    {
     "data": {
      "text/plain": [
       "@AtikuOrg          117\n",
       "@omonlakiki         31\n",
       "@AUNigeria          25\n",
       "@SpokesManAtiku     24\n",
       "@Mustyblax          14\n",
       "Name: mentions, dtype: int64"
      ]
     },
     "execution_count": 25,
     "metadata": {},
     "output_type": "execute_result"
    }
   ],
   "source": [
    "#Let's do this a more friendly way with pandas\n",
    "#Make an empty dataframe\n",
    "retweetees_df = pd.DataFrame()\n",
    "#Create a column with the mentions list\n",
    "retweetees_df['mentions'] = retweetees\n",
    "#Get a value count \n",
    "retweetees_df.mentions.value_counts().head() #See how it is exact same result like above"
   ]
  },
  {
   "cell_type": "code",
   "execution_count": 26,
   "metadata": {},
   "outputs": [
    {
     "data": {
      "image/png": "[encoded data removed]",
      "text/plain": [
       "<Figure size 432x288 with 1 Axes>"
      ]
     },
     "metadata": {
      "needs_background": "light"
     },
     "output_type": "display_data"
    }
   ],
   "source": [
    "#Plotting with Matplot\n",
    "mentions = [line[1] for line in sorted_outcome[:5]][::-1]\n",
    "y_pos = range(len(mentions))\n",
    "frequnecy = [line[0] for line in sorted_outcome[:5]][::-1]\n",
    "\n",
    "plt.barh(y_pos, frequnecy, align='center')\n",
    "plt.yticks(y_pos, mentions)\n",
    "plt.xlabel('Frequency')\n",
    "plt.ylabel('Retweetees')\n",
    "plt.title('Top 5 Users Retweet by X')\n",
    "\n",
    "plt.show()"
   ]
  },
  {
   "cell_type": "code",
   "execution_count": 37,
   "metadata": {},
   "outputs": [
    {
     "data": {
      "image/png": "[encoded data removed]",
      "text/plain": [
       "<Figure size 720x216 with 1 Axes>"
      ]
     },
     "metadata": {
      "needs_background": "light"
     },
     "output_type": "display_data"
    }
   ],
   "source": [
    "#Let's plot same from the dataframe with top 10\n",
    "plotter(retweetees_df, 'mentions', 'Rewteetes', 'No of Times Retweeted', 'Top 10 Retweetees of X')"
   ]
  },
  {
   "cell_type": "markdown",
   "metadata": {},
   "source": [
    "### What top 5 hours of the day do they tweet."
   ]
  },
  {
   "cell_type": "code",
   "execution_count": 28,
   "metadata": {},
   "outputs": [
    {
     "data": {
      "text/plain": [
       "0     8\n",
       "1    16\n",
       "Name: hours, dtype: int64"
      ]
     },
     "execution_count": 28,
     "metadata": {},
     "output_type": "execute_result"
    }
   ],
   "source": [
    "#Let's create another column 'hours' in our original df from created_at. result will be like 00, 01...24 hrs of the day\n",
    "df['hours'] = [line.time().hour for line in df.created_at]\n",
    "#A peek\n",
    "df.hours.head(2)"
   ]
  },
  {
   "cell_type": "code",
   "execution_count": 29,
   "metadata": {},
   "outputs": [
    {
     "data": {
      "image/png": "[encoded data removed]",
      "text/plain": [
       "<Figure size 720x216 with 1 Axes>"
      ]
     },
     "metadata": {
      "needs_background": "light"
     },
     "output_type": "display_data"
    }
   ],
   "source": [
    "#Lets drop a plot passing the arguments needed\n",
    "plotter(df, 'hours', 'Hour of Day', 'No of Tweets', \"Top Hours of the Day for X's Tweets\")"
   ]
  },
  {
   "cell_type": "markdown",
   "metadata": {},
   "source": [
    "### What kind of device do they use to tweet."
   ]
  },
  {
   "cell_type": "code",
   "execution_count": 30,
   "metadata": {},
   "outputs": [
    {
     "data": {
      "text/plain": [
       "0    Twitter for iPhone\n",
       "1    Twitter for iPhone\n",
       "Name: source, dtype: object"
      ]
     },
     "execution_count": 30,
     "metadata": {},
     "output_type": "execute_result"
    }
   ],
   "source": [
    "#This info is held on the 'source' column\n",
    "df.source.head(2)"
   ]
  },
  {
   "cell_type": "code",
   "execution_count": 31,
   "metadata": {},
   "outputs": [
    {
     "data": {
      "text/plain": [
       "Twitter for iPhone      3097\n",
       "Twitter Web App           62\n",
       "Twitter Web Client        61\n",
       "Medium                     4\n",
       "Periscope                  3\n",
       "Twitter Media Studio       1\n",
       "Facebook                   1\n",
       "Name: source, dtype: int64"
      ]
     },
     "execution_count": 31,
     "metadata": {},
     "output_type": "execute_result"
    }
   ],
   "source": [
    "#A frequency count with value counts\n",
    "df.source.value_counts()"
   ]
  },
  {
   "cell_type": "code",
   "execution_count": 32,
   "metadata": {},
   "outputs": [
    {
     "data": {
      "text/plain": [
       "<matplotlib.axes._subplots.AxesSubplot at 0x2ac42af4588>"
      ]
     },
     "execution_count": 32,
     "metadata": {},
     "output_type": "execute_result"
    },
    {
     "data": {
      "image/png": "[encoded data removed]",
      "text/plain": [
       "<Figure size 432x288 with 1 Axes>"
      ]
     },
     "metadata": {},
     "output_type": "display_data"
    }
   ],
   "source": [
    "#Let's drop a simple distro plot of the frequency of top 3 items on the list\n",
    "df.source.value_counts().head(3).plot.pie(labels = None, legend=True)"
   ]
  },
  {
   "cell_type": "markdown",
   "metadata": {},
   "source": [
    "# Next up\n",
    "- On average, how many times do they tweet a day."
   ]
  },
  {
   "cell_type": "markdown",
   "metadata": {},
   "source": [
    "# Bonus Content\n",
    "- This is a quick plot of the activities of X\n",
    "- Their hottest tweet time from 2015 is early 2019 maxing at almost 50 tweets a day at a point."
   ]
  },
  {
   "cell_type": "code",
   "execution_count": 33,
   "metadata": {},
   "outputs": [
    {
     "data": {
      "text/plain": [
       "<matplotlib.axes._subplots.AxesSubplot at 0x2ac42ab2a48>"
      ]
     },
     "execution_count": 33,
     "metadata": {},
     "output_type": "execute_result"
    },
    {
     "data": {
      "image/png": "[encoded data removed]",
      "text/plain": [
       "<Figure size 1080x216 with 1 Axes>"
      ]
     },
     "metadata": {
      "needs_background": "light"
     },
     "output_type": "display_data"
    }
   ],
   "source": [
    "#First let's see the trend of their tweets over the period\n",
    "df.dates.value_counts().plot(figsize=(15,3))"
   ]
  }
 ],
 "metadata": {
  "kernelspec": {
   "display_name": "Python 3",
   "language": "python",
   "name": "python3"
  },
  "language_info": {
   "codemirror_mode": {
    "name": "ipython",
    "version": 3
   },
   "file_extension": ".py",
   "mimetype": "text/x-python",
   "name": "python",
   "nbconvert_exporter": "python",
   "pygments_lexer": "ipython3",
   "version": "3.7.4"
  }
 },
 "nbformat": 4,
 "nbformat_minor": 2
}
